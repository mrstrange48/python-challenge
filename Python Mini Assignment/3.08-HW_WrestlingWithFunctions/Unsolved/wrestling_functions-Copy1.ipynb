{
 "cells": [
  {
   "cell_type": "code",
   "execution_count": 2,
   "metadata": {},
   "outputs": [],
   "source": [
    "import os\n",
    "import csv"
   ]
  },
  {
   "cell_type": "code",
   "execution_count": 18,
   "metadata": {},
   "outputs": [],
   "source": [
    "# Path to collect data from the Resources folder\n",
    "\n",
    "# Define the function and have it accept the 'wrestlerData' as its sole parameter\n",
    "\n",
    "# Find the total number of matches wrestled\n",
    "\n",
    "# Find the percentage of matches won\n",
    "\n",
    "# Find the percentage of matches lost\n",
    "\n",
    "# Find the percentage of matches drawn\n",
    "\n",
    "# Print out the wrestler's name and their percentage stats\n",
    "\n",
    "def print_percentages(row):\n",
    "#     print(row)\n",
    "    total= int(row[1])+int(row[2])+int(row[3])\n",
    "    win_pct=round(int(row[1])/total*100,2)\n",
    "    lost_pct=round(int(row[2])/total*100,2)\n",
    "    draw_mat=round(int(row[3])/total*100,2)\n",
    "    if lost_pct>50:\n",
    "        print('Jobber')\n",
    "    else:\n",
    "        print('Superstar')\n",
    "    return print(f\"Win Percent is: {win_pct}% Loss Per cent is: {lost_pct}% Draw Percent is: {draw_mat}%\")"
   ]
  },
  {
   "cell_type": "code",
   "execution_count": 19,
   "metadata": {},
   "outputs": [
    {
     "name": "stdout",
     "output_type": "stream",
     "text": [
      "What wrestler do you want to look for? Kevin Owens\n",
      "Jobber\n",
      "Win Percent is: 31.61% Loss Per cent is: 67.36% Draw Percent is: 1.04%\n",
      "61\n"
     ]
    }
   ],
   "source": [
    "# Read in the CSV file\n",
    "with open('../Resources/WWE-Data-2016.csv', 'r') as csvfile:\n",
    "\n",
    "    # Split the data on commas\n",
    "    csvreader = csv.reader(csvfile, delimiter=',')\n",
    "\n",
    "    # Prompt the user for what wrestler they would like to search for\n",
    "    name_to_check = input(\"What wrestler do you want to look for? \")\n",
    "\n",
    "    # Loop through the data\n",
    "    for row in csvreader:\n",
    "\n",
    "        # If the wrestler's name in a row is equal to that which the user input, run the 'print_percentages()' function\n",
    "        if(name_to_check == row[0]):\n",
    "            print_percentages(row)\n",
    "            print(row[1])"
   ]
  },
  {
   "cell_type": "code",
   "execution_count": 6,
   "metadata": {},
   "outputs": [
    {
     "data": {
      "text/plain": [
       "'1'"
      ]
     },
     "execution_count": 6,
     "metadata": {},
     "output_type": "execute_result"
    }
   ],
   "source": [
    "row[1]"
   ]
  },
  {
   "cell_type": "code",
   "execution_count": null,
   "metadata": {},
   "outputs": [],
   "source": []
  }
 ],
 "metadata": {
  "kernelspec": {
   "display_name": "Python 3",
   "language": "python",
   "name": "python3"
  },
  "language_info": {
   "codemirror_mode": {
    "name": "ipython",
    "version": 3
   },
   "file_extension": ".py",
   "mimetype": "text/x-python",
   "name": "python",
   "nbconvert_exporter": "python",
   "pygments_lexer": "ipython3",
   "version": "3.8.3"
  }
 },
 "nbformat": 4,
 "nbformat_minor": 2
}
